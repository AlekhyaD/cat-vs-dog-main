{
 "cells": [
  {
   "cell_type": "code",
   "execution_count": 9,
   "metadata": {},
   "outputs": [],
   "source": [
    "'''This script goes along the blog post\n",
    "\"Building powerful image classification models using very little data\"\n",
    "from blog.keras.io.\n",
    "It uses data that can be downloaded at:\n",
    "https://www.kaggle.com/c/dogs-vs-cats/data\n",
    "In our setup, we:\n",
    "- created a data/ folder\n",
    "- created train/ and validation/ subfolders inside data/\n",
    "- created cats/ and dogs/ subfolders inside train/ and validation/\n",
    "- put the cat pictures index 0-999 in data/train/cats\n",
    "- put the cat pictures index 1000-1400 in data/validation/cats\n",
    "- put the dogs pictures index 12500-13499 in data/train/dogs\n",
    "- put the dog pictures index 13500-13900 in data/validation/dogs\n",
    "So that we have 1000 training examples for each class, and 400 validation examples for each class.\n",
    "In summary, this is our directory structure:\n",
    "```\n",
    "data/\n",
    "    train/\n",
    "        dogs/\n",
    "            dog001.jpg\n",
    "            dog002.jpg\n",
    "            ...\n",
    "        cats/\n",
    "            cat001.jpg\n",
    "            cat002.jpg\n",
    "            ...\n",
    "    validation/\n",
    "        dogs/\n",
    "            dog001.jpg\n",
    "            dog002.jpg\n",
    "            ...\n",
    "        cats/\n",
    "            cat001.jpg\n",
    "            cat002.jpg\n",
    "            ...\n",
    "```\n",
    "'''\n",
    "\n",
    "from keras.preprocessing.image import ImageDataGenerator\n",
    "from keras.models import Sequential\n",
    "from keras.layers import Conv2D, MaxPooling2D\n",
    "from keras.layers import Activation, Dropout, Flatten, Dense\n",
    "from keras import backend as K"
   ]
  },
  {
   "cell_type": "code",
   "execution_count": 10,
   "metadata": {},
   "outputs": [],
   "source": [
    "# dimensions of our images.\n",
    "img_width, img_height = 150, 150\n",
    "\n",
    "train_data_dir = './data/train'\n",
    "validation_data_dir = './data/validation'\n",
    "nb_train_samples = 2000\n",
    "nb_validation_samples = 800\n",
    "epochs = 50\n",
    "batch_size = 16\n",
    "\n",
    "if K.image_data_format() == 'channels_first':\n",
    "    input_shape = (3, img_width, img_height)\n",
    "else:\n",
    "    input_shape = (img_width, img_height, 3)"
   ]
  },
  {
   "cell_type": "code",
   "execution_count": 11,
   "metadata": {},
   "outputs": [],
   "source": [
    "model = Sequential()\n",
    "model.add(Conv2D(32, (3, 3), input_shape=input_shape))\n",
    "model.add(Activation('relu'))\n",
    "model.add(MaxPooling2D(pool_size=(2, 2)))\n",
    "\n",
    "model.add(Conv2D(32, (3, 3)))\n",
    "model.add(Activation('relu'))\n",
    "model.add(MaxPooling2D(pool_size=(2, 2)))\n",
    "\n",
    "model.add(Conv2D(64, (3, 3)))\n",
    "model.add(Activation('relu'))\n",
    "model.add(MaxPooling2D(pool_size=(2, 2)))\n",
    "\n",
    "model.add(Flatten())\n",
    "model.add(Dense(64))\n",
    "model.add(Activation('relu'))\n",
    "model.add(Dropout(0.5))\n",
    "model.add(Dense(1))\n",
    "model.add(Activation('sigmoid'))"
   ]
  },
  {
   "cell_type": "code",
   "execution_count": 12,
   "metadata": {},
   "outputs": [],
   "source": [
    "model.compile(loss='binary_crossentropy',\n",
    "              optimizer='rmsprop',\n",
    "              metrics=['accuracy'])"
   ]
  },
  {
   "cell_type": "code",
   "execution_count": 13,
   "metadata": {},
   "outputs": [
    {
     "name": "stdout",
     "output_type": "stream",
     "text": [
      "Found 8000 images belonging to 2 classes.\n",
      "Found 2000 images belonging to 2 classes.\n"
     ]
    }
   ],
   "source": [
    "# this is the augmentation configuration we will use for training\n",
    "train_datagen = ImageDataGenerator(\n",
    "    rescale=1. / 255,\n",
    "    shear_range=0.2,\n",
    "    zoom_range=0.2,\n",
    "    horizontal_flip=True)\n",
    "\n",
    "# this is the augmentation configuration we will use for testing:\n",
    "# only rescaling\n",
    "test_datagen = ImageDataGenerator(rescale=1. / 255)\n",
    "\n",
    "train_generator = train_datagen.flow_from_directory(\n",
    "    train_data_dir,\n",
    "    target_size=(img_width, img_height),\n",
    "    batch_size=batch_size,\n",
    "    class_mode='binary')\n",
    "\n",
    "validation_generator = test_datagen.flow_from_directory(\n",
    "    validation_data_dir,\n",
    "    target_size=(img_width, img_height),\n",
    "    batch_size=batch_size,\n",
    "    class_mode='binary')"
   ]
  },
  {
   "cell_type": "code",
   "execution_count": 14,
   "metadata": {},
   "outputs": [
    {
     "name": "stdout",
     "output_type": "stream",
     "text": [
      "Epoch 1/50\n",
      "125/125 [==============================] - 48s 382ms/step - loss: 0.7095 - accuracy: 0.5275 - val_loss: 0.6663 - val_accuracy: 0.6025\n",
      "Epoch 2/50\n",
      "125/125 [==============================] - 46s 369ms/step - loss: 0.6796 - accuracy: 0.5800 - val_loss: 0.7547 - val_accuracy: 0.5375\n",
      "Epoch 3/50\n",
      "125/125 [==============================] - 46s 366ms/step - loss: 0.6463 - accuracy: 0.6275 - val_loss: 0.6410 - val_accuracy: 0.6413\n",
      "Epoch 4/50\n",
      "125/125 [==============================] - 46s 365ms/step - loss: 0.6539 - accuracy: 0.6395 - val_loss: 0.5762 - val_accuracy: 0.6825\n",
      "Epoch 5/50\n",
      "125/125 [==============================] - 46s 367ms/step - loss: 0.6301 - accuracy: 0.6575 - val_loss: 0.5805 - val_accuracy: 0.6900\n",
      "Epoch 6/50\n",
      "125/125 [==============================] - 46s 370ms/step - loss: 0.6160 - accuracy: 0.6700 - val_loss: 0.6355 - val_accuracy: 0.5975\n",
      "Epoch 7/50\n",
      "125/125 [==============================] - 46s 371ms/step - loss: 0.6150 - accuracy: 0.6715 - val_loss: 0.5664 - val_accuracy: 0.7025\n",
      "Epoch 8/50\n",
      "125/125 [==============================] - 46s 368ms/step - loss: 0.5947 - accuracy: 0.7070 - val_loss: 0.5855 - val_accuracy: 0.6975\n",
      "Epoch 9/50\n",
      "125/125 [==============================] - 49s 395ms/step - loss: 0.5880 - accuracy: 0.6865 - val_loss: 0.5336 - val_accuracy: 0.7200\n",
      "Epoch 10/50\n",
      "125/125 [==============================] - 49s 396ms/step - loss: 0.5837 - accuracy: 0.7160 - val_loss: 0.5518 - val_accuracy: 0.7075\n",
      "Epoch 11/50\n",
      "125/125 [==============================] - 47s 379ms/step - loss: 0.5676 - accuracy: 0.7185 - val_loss: 0.6441 - val_accuracy: 0.6662\n",
      "Epoch 12/50\n",
      "125/125 [==============================] - 48s 384ms/step - loss: 0.5497 - accuracy: 0.7390 - val_loss: 0.5141 - val_accuracy: 0.7475\n",
      "Epoch 13/50\n",
      "125/125 [==============================] - 48s 381ms/step - loss: 0.5532 - accuracy: 0.7310 - val_loss: 0.5109 - val_accuracy: 0.7425\n",
      "Epoch 14/50\n",
      "125/125 [==============================] - 48s 383ms/step - loss: 0.5396 - accuracy: 0.7400 - val_loss: 0.5093 - val_accuracy: 0.7688\n",
      "Epoch 15/50\n",
      "125/125 [==============================] - 48s 381ms/step - loss: 0.5300 - accuracy: 0.7425 - val_loss: 0.5048 - val_accuracy: 0.7600\n",
      "Epoch 16/50\n",
      "125/125 [==============================] - 48s 382ms/step - loss: 0.5465 - accuracy: 0.7255 - val_loss: 0.5053 - val_accuracy: 0.7638\n",
      "Epoch 17/50\n",
      "125/125 [==============================] - 48s 381ms/step - loss: 0.5179 - accuracy: 0.7590 - val_loss: 0.4804 - val_accuracy: 0.7763\n",
      "Epoch 18/50\n",
      "125/125 [==============================] - 48s 383ms/step - loss: 0.5455 - accuracy: 0.7475 - val_loss: 0.5112 - val_accuracy: 0.7725\n",
      "Epoch 19/50\n",
      "125/125 [==============================] - 48s 383ms/step - loss: 0.5331 - accuracy: 0.7580 - val_loss: 0.5488 - val_accuracy: 0.7412\n",
      "Epoch 20/50\n",
      "125/125 [==============================] - 48s 381ms/step - loss: 0.5192 - accuracy: 0.7595 - val_loss: 0.5033 - val_accuracy: 0.7713\n",
      "Epoch 21/50\n",
      "125/125 [==============================] - 48s 381ms/step - loss: 0.5239 - accuracy: 0.7630 - val_loss: 0.4699 - val_accuracy: 0.7825\n",
      "Epoch 22/50\n",
      "125/125 [==============================] - 48s 384ms/step - loss: 0.5419 - accuracy: 0.7370 - val_loss: 0.4938 - val_accuracy: 0.7513\n",
      "Epoch 23/50\n",
      "125/125 [==============================] - 48s 382ms/step - loss: 0.5178 - accuracy: 0.7585 - val_loss: 0.5295 - val_accuracy: 0.7538\n",
      "Epoch 24/50\n",
      "125/125 [==============================] - 48s 384ms/step - loss: 0.5272 - accuracy: 0.7445 - val_loss: 0.5182 - val_accuracy: 0.7575\n",
      "Epoch 25/50\n",
      "125/125 [==============================] - 49s 393ms/step - loss: 0.5074 - accuracy: 0.7625 - val_loss: 0.4800 - val_accuracy: 0.7738\n",
      "Epoch 26/50\n",
      "125/125 [==============================] - 47s 377ms/step - loss: 0.5102 - accuracy: 0.7650 - val_loss: 0.5548 - val_accuracy: 0.7350\n",
      "Epoch 27/50\n",
      "125/125 [==============================] - 47s 380ms/step - loss: 0.5033 - accuracy: 0.7760 - val_loss: 0.4843 - val_accuracy: 0.7900\n",
      "Epoch 28/50\n",
      "125/125 [==============================] - 50s 403ms/step - loss: 0.5267 - accuracy: 0.7605 - val_loss: 2.0500 - val_accuracy: 0.5675\n",
      "Epoch 29/50\n",
      "125/125 [==============================] - 50s 400ms/step - loss: 0.4902 - accuracy: 0.7820 - val_loss: 0.4947 - val_accuracy: 0.7638\n",
      "Epoch 30/50\n",
      "125/125 [==============================] - 47s 374ms/step - loss: 0.5259 - accuracy: 0.7655 - val_loss: 0.5039 - val_accuracy: 0.7600\n",
      "Epoch 31/50\n",
      "125/125 [==============================] - 47s 375ms/step - loss: 0.5077 - accuracy: 0.7730 - val_loss: 0.4444 - val_accuracy: 0.8025\n",
      "Epoch 32/50\n",
      "125/125 [==============================] - 47s 375ms/step - loss: 0.5063 - accuracy: 0.7655 - val_loss: 0.4995 - val_accuracy: 0.7937\n",
      "Epoch 33/50\n",
      "125/125 [==============================] - 48s 383ms/step - loss: 0.4791 - accuracy: 0.7865 - val_loss: 0.6259 - val_accuracy: 0.7550\n",
      "Epoch 34/50\n",
      "125/125 [==============================] - 48s 387ms/step - loss: 0.5112 - accuracy: 0.7775 - val_loss: 0.4373 - val_accuracy: 0.7987\n",
      "Epoch 35/50\n",
      "125/125 [==============================] - 48s 385ms/step - loss: 0.5028 - accuracy: 0.7615 - val_loss: 0.5307 - val_accuracy: 0.7788\n",
      "Epoch 36/50\n",
      "125/125 [==============================] - 49s 389ms/step - loss: 0.4922 - accuracy: 0.7735 - val_loss: 0.4646 - val_accuracy: 0.7937\n",
      "Epoch 37/50\n",
      "125/125 [==============================] - 48s 387ms/step - loss: 0.4718 - accuracy: 0.7840 - val_loss: 0.4840 - val_accuracy: 0.8012\n",
      "Epoch 38/50\n",
      "125/125 [==============================] - 48s 381ms/step - loss: 0.4782 - accuracy: 0.7780 - val_loss: 0.4802 - val_accuracy: 0.7925\n",
      "Epoch 39/50\n",
      "125/125 [==============================] - 48s 383ms/step - loss: 0.4759 - accuracy: 0.8010 - val_loss: 0.4332 - val_accuracy: 0.8238\n",
      "Epoch 40/50\n",
      "125/125 [==============================] - 48s 384ms/step - loss: 0.4893 - accuracy: 0.7760 - val_loss: 0.4050 - val_accuracy: 0.8188\n",
      "Epoch 41/50\n",
      "125/125 [==============================] - 48s 385ms/step - loss: 0.4593 - accuracy: 0.8020 - val_loss: 0.4599 - val_accuracy: 0.7962\n",
      "Epoch 42/50\n",
      "125/125 [==============================] - 48s 382ms/step - loss: 0.4794 - accuracy: 0.7830 - val_loss: 0.5253 - val_accuracy: 0.7487\n",
      "Epoch 43/50\n",
      "125/125 [==============================] - 49s 392ms/step - loss: 0.5202 - accuracy: 0.7515 - val_loss: 0.4401 - val_accuracy: 0.8238\n",
      "Epoch 44/50\n",
      "125/125 [==============================] - 48s 382ms/step - loss: 0.4437 - accuracy: 0.8030 - val_loss: 0.4866 - val_accuracy: 0.7812\n",
      "Epoch 45/50\n",
      "125/125 [==============================] - 48s 385ms/step - loss: 0.4568 - accuracy: 0.7875 - val_loss: 0.4368 - val_accuracy: 0.8075\n",
      "Epoch 46/50\n",
      "125/125 [==============================] - 51s 408ms/step - loss: 0.4643 - accuracy: 0.7970 - val_loss: 0.4325 - val_accuracy: 0.8163\n",
      "Epoch 47/50\n",
      "125/125 [==============================] - 52s 413ms/step - loss: 0.4511 - accuracy: 0.7975 - val_loss: 0.4769 - val_accuracy: 0.7987\n",
      "Epoch 48/50\n",
      "125/125 [==============================] - 47s 380ms/step - loss: 0.4655 - accuracy: 0.7980 - val_loss: 0.6052 - val_accuracy: 0.7550\n",
      "Epoch 49/50\n",
      "125/125 [==============================] - 49s 392ms/step - loss: 0.4743 - accuracy: 0.7930 - val_loss: 0.4205 - val_accuracy: 0.8037\n",
      "Epoch 50/50\n",
      "125/125 [==============================] - 49s 392ms/step - loss: 0.4500 - accuracy: 0.7965 - val_loss: 0.4096 - val_accuracy: 0.8325\n"
     ]
    },
    {
     "data": {
      "text/plain": [
       "<tensorflow.python.keras.callbacks.History at 0x7fb48ef33190>"
      ]
     },
     "execution_count": 14,
     "metadata": {},
     "output_type": "execute_result"
    }
   ],
   "source": [
    "model.fit_generator(\n",
    "    train_generator,\n",
    "    steps_per_epoch=nb_train_samples // batch_size,\n",
    "    epochs=epochs,\n",
    "    validation_data=validation_generator,\n",
    "    validation_steps=nb_validation_samples // batch_size)"
   ]
  },
  {
   "cell_type": "code",
   "execution_count": 15,
   "metadata": {},
   "outputs": [],
   "source": [
    "model.save_weights('first_try.h5')"
   ]
  },
  {
   "cell_type": "code",
   "execution_count": 16,
   "metadata": {},
   "outputs": [
    {
     "name": "stdout",
     "output_type": "stream",
     "text": [
      "WARNING:tensorflow:From /home/captain/Music/rootenv/lib/python3.8/site-packages/tensorflow/python/training/tracking/tracking.py:111: Model.state_updates (from tensorflow.python.keras.engine.training) is deprecated and will be removed in a future version.\n",
      "Instructions for updating:\n",
      "This property should not be used in TensorFlow 2.0, as updates are applied automatically.\n",
      "WARNING:tensorflow:From /home/captain/Music/rootenv/lib/python3.8/site-packages/tensorflow/python/training/tracking/tracking.py:111: Layer.updates (from tensorflow.python.keras.engine.base_layer) is deprecated and will be removed in a future version.\n",
      "Instructions for updating:\n",
      "This property should not be used in TensorFlow 2.0, as updates are applied automatically.\n",
      "INFO:tensorflow:Assets written to: dogvscat.model/assets\n"
     ]
    }
   ],
   "source": [
    "model.save('dogvscat.model')"
   ]
  },
  {
   "cell_type": "code",
   "execution_count": null,
   "metadata": {},
   "outputs": [],
   "source": [
    "#observation: 10 epochs :: accuracy = 70%"
   ]
  },
  {
   "cell_type": "code",
   "execution_count": null,
   "metadata": {},
   "outputs": [],
   "source": []
  }
 ],
 "metadata": {
  "kernelspec": {
   "display_name": "Python 3",
   "language": "python",
   "name": "python3"
  },
  "language_info": {
   "codemirror_mode": {
    "name": "ipython",
    "version": 3
   },
   "file_extension": ".py",
   "mimetype": "text/x-python",
   "name": "python",
   "nbconvert_exporter": "python",
   "pygments_lexer": "ipython3",
   "version": "3.8.5"
  }
 },
 "nbformat": 4,
 "nbformat_minor": 4
}
